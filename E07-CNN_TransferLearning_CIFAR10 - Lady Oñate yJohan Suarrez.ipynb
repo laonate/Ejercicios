{
 "cells": [
  {
   "cell_type": "markdown",
   "metadata": {},
   "source": [
    "# Exercise 7\n",
    "\n",
    "# Lady Oñate\n",
    "# Johan Suarez\n",
    "\n",
    "Data Preparation"
   ]
  },
  {
   "cell_type": "markdown",
   "metadata": {},
   "source": [
    "We will train our network on the **CIFAR10** [dataset](https://www.cs.toronto.edu/~kriz/cifar.html), which contains `50,000` 32x32 color training images, labeled over 10 categories, and 10,000 test images. \n",
    "\n",
    "As this dataset is also included in Keras datasets, we just ask the `keras.datasets` module for the dataset.\n",
    "\n",
    "Training and test images are normalized to lie in the $\\left[0,1\\right]$ interval."
   ]
  },
  {
   "cell_type": "code",
   "execution_count": 3,
   "metadata": {},
   "outputs": [
    {
     "name": "stderr",
     "output_type": "stream",
     "text": [
      "Using TensorFlow backend.\n"
     ]
    }
   ],
   "source": [
    "from keras.datasets import cifar10\n",
    "from keras.utils import np_utils\n",
    "import pandas as pd\n",
    "import numpy as np\n",
    "import matplotlib.pyplot as plt\n",
    "import matplotlib.image as mpimg\n",
    "%matplotlib inline"
   ]
  },
  {
   "cell_type": "code",
   "execution_count": 2,
   "metadata": {
    "collapsed": true
   },
   "outputs": [],
   "source": [
    "# Normal option with full database\n",
    "# (X_train, y_train), (X_test, y_test) = cifar10.load_data()  # File is 160MB"
   ]
  },
  {
   "cell_type": "code",
   "execution_count": 4,
   "metadata": {
    "collapsed": true
   },
   "outputs": [],
   "source": [
    "# Only the first training batch and testing  # File is 58MB\n",
    "import tarfile\n",
    "from six.moves import cPickle\n",
    "\n",
    "# Use local copy of the cifar-10 database\n",
    "data_tar = tarfile.open('../datasets/cifar-10-python_trainingbatch1_test.tar.gz')\n",
    "\n",
    "def extract_xy(member, data_tar):\n",
    "    d = cPickle.load(data_tar.extractfile(member), encoding='bytes')\n",
    "    d_decoded = {}\n",
    "    for k, v in d.items():\n",
    "        d_decoded[k.decode('utf8')] = v\n",
    "    d = d_decoded\n",
    "    X = d['data']\n",
    "    X = X.reshape(X.shape[0], 3, 32, 32)\n",
    "    y = d['labels']\n",
    "    return X.transpose(0, 2, 3, 1), np.reshape(y, (len(y), 1))\n",
    "\n",
    "X_train, y_train = extract_xy('cifar-10-batches-py/data_batch_1', data_tar)\n",
    "X_test, y_test = extract_xy('cifar-10-batches-py/test_batch', data_tar)"
   ]
  },
  {
   "cell_type": "code",
   "execution_count": 5,
   "metadata": {},
   "outputs": [
    {
     "data": {
      "text/plain": [
       "((10000, 32, 32, 3), (10000, 32, 32, 3))"
      ]
     },
     "execution_count": 5,
     "metadata": {},
     "output_type": "execute_result"
    }
   ],
   "source": [
    "X_train.shape, X_test.shape"
   ]
  },
  {
   "cell_type": "code",
   "execution_count": 6,
   "metadata": {
    "collapsed": true
   },
   "outputs": [],
   "source": [
    "nb_classes = y_train.max() + 1\n",
    "Y_train = np_utils.to_categorical(y_train, nb_classes)\n",
    "Y_test = np_utils.to_categorical(y_test, nb_classes)\n",
    "X_train = X_train.astype(\"float32\")\n",
    "X_test = X_test.astype(\"float32\")\n",
    "X_train /= 255\n",
    "X_test /= 255"
   ]
  },
  {
   "cell_type": "code",
   "execution_count": 6,
   "metadata": {
    "collapsed": true
   },
   "outputs": [],
   "source": [
    "labels = ['airplane', 'automobile','bird', 'cat', 'deer', 'dog', 'frog', 'horse', 'ship','truck']"
   ]
  },
  {
   "cell_type": "code",
   "execution_count": 7,
   "metadata": {},
   "outputs": [
    {
     "data": {
      "text/plain": [
       "(32, 32, 3)"
      ]
     },
     "execution_count": 7,
     "metadata": {},
     "output_type": "execute_result"
    }
   ],
   "source": [
    "X_train[0].shape"
   ]
  },
  {
   "cell_type": "code",
   "execution_count": 8,
   "metadata": {},
   "outputs": [
    {
     "data": {
      "text/plain": [
       "array([6])"
      ]
     },
     "execution_count": 8,
     "metadata": {},
     "output_type": "execute_result"
    }
   ],
   "source": [
    "y_train[0]"
   ]
  },
  {
   "cell_type": "code",
   "execution_count": 9,
   "metadata": {},
   "outputs": [
    {
     "data": {
      "text/plain": [
       "array([0., 0., 0., 0., 0., 0., 1., 0., 0., 0.], dtype=float32)"
      ]
     },
     "execution_count": 9,
     "metadata": {},
     "output_type": "execute_result"
    }
   ],
   "source": [
    "Y_train[0]"
   ]
  },
  {
   "cell_type": "code",
   "execution_count": 10,
   "metadata": {},
   "outputs": [
    {
     "ename": "NameError",
     "evalue": "name 'labels' is not defined",
     "output_type": "error",
     "traceback": [
      "\u001b[1;31m---------------------------------------------------------------------------\u001b[0m",
      "\u001b[1;31mNameError\u001b[0m                                 Traceback (most recent call last)",
      "\u001b[1;32m<ipython-input-10-a5bc72e918a9>\u001b[0m in \u001b[0;36m<module>\u001b[1;34m()\u001b[0m\n\u001b[0;32m      7\u001b[0m \u001b[1;32mfor\u001b[0m \u001b[0mi\u001b[0m \u001b[1;32min\u001b[0m \u001b[0mrange\u001b[0m\u001b[1;33m(\u001b[0m\u001b[0mnb_classes\u001b[0m\u001b[1;33m)\u001b[0m\u001b[1;33m:\u001b[0m\u001b[1;33m\u001b[0m\u001b[0m\n\u001b[0;32m      8\u001b[0m     \u001b[0max\u001b[0m\u001b[1;33m[\u001b[0m\u001b[0mi\u001b[0m\u001b[1;33m]\u001b[0m\u001b[1;33m.\u001b[0m\u001b[0mimshow\u001b[0m\u001b[1;33m(\u001b[0m\u001b[0mX_train\u001b[0m\u001b[1;33m[\u001b[0m\u001b[0mimages\u001b[0m\u001b[1;33m[\u001b[0m\u001b[0mi\u001b[0m\u001b[1;33m]\u001b[0m\u001b[1;33m]\u001b[0m\u001b[1;33m)\u001b[0m\u001b[1;33m\u001b[0m\u001b[0m\n\u001b[1;32m----> 9\u001b[1;33m     \u001b[0max\u001b[0m\u001b[1;33m[\u001b[0m\u001b[0mi\u001b[0m\u001b[1;33m]\u001b[0m\u001b[1;33m.\u001b[0m\u001b[0mset_title\u001b[0m\u001b[1;33m(\u001b[0m\u001b[0mlabels\u001b[0m\u001b[1;33m[\u001b[0m\u001b[0my_train\u001b[0m\u001b[1;33m[\u001b[0m\u001b[0mimages\u001b[0m\u001b[1;33m[\u001b[0m\u001b[0mi\u001b[0m\u001b[1;33m]\u001b[0m\u001b[1;33m]\u001b[0m\u001b[1;33m[\u001b[0m\u001b[1;36m0\u001b[0m\u001b[1;33m]\u001b[0m\u001b[1;33m]\u001b[0m\u001b[1;33m)\u001b[0m\u001b[1;33m\u001b[0m\u001b[0m\n\u001b[0m\u001b[0;32m     10\u001b[0m     \u001b[0max\u001b[0m\u001b[1;33m[\u001b[0m\u001b[0mi\u001b[0m\u001b[1;33m]\u001b[0m\u001b[1;33m.\u001b[0m\u001b[0maxis\u001b[0m\u001b[1;33m(\u001b[0m\u001b[1;34m'off'\u001b[0m\u001b[1;33m)\u001b[0m\u001b[1;33m\u001b[0m\u001b[0m\n\u001b[0;32m     11\u001b[0m \u001b[1;33m\u001b[0m\u001b[0m\n",
      "\u001b[1;31mNameError\u001b[0m: name 'labels' is not defined"
     ]
    },
    {
     "data": {
      "image/png": "[encoded data removed]",
      "text/plain": [
       "<matplotlib.figure.Figure at 0x1ece174aa58>"
      ]
     },
     "metadata": {},
     "output_type": "display_data"
    }
   ],
   "source": [
    "# Select one image per y\n",
    "images = [np.nonzero(Y_train[:,i] == 1)[0][0] for i in range(nb_classes)]\n",
    "\n",
    "# Plot all images\n",
    "fig, ax = plt.subplots(4,3, figsize=(10,10))\n",
    "ax = ax.reshape(12)\n",
    "for i in range(nb_classes):\n",
    "    ax[i].imshow(X_train[images[i]])\n",
    "    ax[i].set_title(labels[y_train[images[i]][0]])\n",
    "    ax[i].axis('off')\n",
    "\n",
    "ax[-1].axis('off')\n",
    "ax[-2].axis('off')\n",
    "plt.show()"
   ]
  },
  {
   "cell_type": "markdown",
   "metadata": {},
   "source": [
    "# Exercise 08.1\n",
    "\n",
    "Train a Softmax regression using keras\n",
    "Optimized using rmsprop using as loss categorical_crossentropy\n",
    "\n",
    "Hints: \n",
    "- test with two iterations then try more. \n",
    "- learning can be ajusted\n",
    "\n",
    "Evaluate the performance using the testing set (aprox 31% with 50 epochs)"
   ]
  },
  {
   "cell_type": "code",
   "execution_count": 12,
   "metadata": {
    "collapsed": true
   },
   "outputs": [],
   "source": [
    "from keras.models import Sequential\n",
    "from keras.layers import Dense, Dropout, Activation, Flatten\n",
    "from keras.layers import Conv2D, MaxPooling2D\n",
    "#from livelossplot import PlotLossesKeras"
   ]
  },
  {
   "cell_type": "code",
   "execution_count": 16,
   "metadata": {},
   "outputs": [
    {
     "name": "stdout",
     "output_type": "stream",
     "text": [
      "_________________________________________________________________\n",
      "Layer (type)                 Output Shape              Param #   \n",
      "=================================================================\n",
      "flatten_3 (Flatten)          (None, 3072)              0         \n",
      "_________________________________________________________________\n",
      "dense_3 (Dense)              (None, 10)                30730     \n",
      "_________________________________________________________________\n",
      "activation_3 (Activation)    (None, 10)                0         \n",
      "=================================================================\n",
      "Total params: 30,730\n",
      "Trainable params: 30,730\n",
      "Non-trainable params: 0\n",
      "_________________________________________________________________\n"
     ]
    }
   ],
   "source": [
    "model = Sequential()\n",
    "model.add(Flatten(input_shape=(32,32,3)))\n",
    "model.add(Dense(units=10))\n",
    "model.add(Activation('softmax'))\n",
    "\n",
    "model.summary()\n"
   ]
  },
  {
   "cell_type": "code",
   "execution_count": 19,
   "metadata": {
    "scrolled": true
   },
   "outputs": [
    {
     "name": "stdout",
     "output_type": "stream",
     "text": [
      "Epoch 1/50\n",
      " - 1s - loss: 1.9476 - acc: 0.3536\n",
      "Epoch 2/50\n",
      " - 1s - loss: 1.9346 - acc: 0.3532\n",
      "Epoch 3/50\n",
      " - 1s - loss: 1.9211 - acc: 0.3568\n",
      "Epoch 4/50\n",
      " - 1s - loss: 1.9173 - acc: 0.3558\n",
      "Epoch 5/50\n",
      " - 1s - loss: 1.9098 - acc: 0.3599\n",
      "Epoch 6/50\n",
      " - 1s - loss: 1.9049 - acc: 0.3624\n",
      "Epoch 7/50\n",
      " - 1s - loss: 1.8948 - acc: 0.3696\n",
      "Epoch 8/50\n",
      " - 1s - loss: 1.8965 - acc: 0.3672\n",
      "Epoch 9/50\n",
      " - 1s - loss: 1.8769 - acc: 0.3739\n",
      "Epoch 10/50\n",
      " - 1s - loss: 1.8720 - acc: 0.3759\n",
      "Epoch 11/50\n",
      " - 1s - loss: 1.8638 - acc: 0.3740\n",
      "Epoch 12/50\n",
      " - 1s - loss: 1.8604 - acc: 0.3763\n",
      "Epoch 13/50\n",
      " - 1s - loss: 1.8666 - acc: 0.3747\n",
      "Epoch 14/50\n",
      " - 1s - loss: 1.8670 - acc: 0.3775\n",
      "Epoch 15/50\n",
      " - 1s - loss: 1.8462 - acc: 0.3830\n",
      "Epoch 16/50\n",
      " - 1s - loss: 1.8510 - acc: 0.3816\n",
      "Epoch 17/50\n",
      " - 1s - loss: 1.8407 - acc: 0.3813\n",
      "Epoch 18/50\n",
      " - 1s - loss: 1.8405 - acc: 0.3843\n",
      "Epoch 19/50\n",
      " - 1s - loss: 1.8286 - acc: 0.3863\n",
      "Epoch 20/50\n",
      " - 1s - loss: 1.8289 - acc: 0.3880\n",
      "Epoch 21/50\n",
      " - 1s - loss: 1.8282 - acc: 0.3858\n",
      "Epoch 22/50\n",
      " - 1s - loss: 1.8227 - acc: 0.3924\n",
      "Epoch 23/50\n",
      " - 1s - loss: 1.8098 - acc: 0.3947\n",
      "Epoch 24/50\n",
      " - 1s - loss: 1.8121 - acc: 0.3968\n",
      "Epoch 25/50\n",
      " - 1s - loss: 1.8049 - acc: 0.3927\n",
      "Epoch 26/50\n",
      " - 1s - loss: 1.8021 - acc: 0.3918\n",
      "Epoch 27/50\n",
      " - 1s - loss: 1.7964 - acc: 0.3989\n",
      "Epoch 28/50\n",
      " - 1s - loss: 1.8083 - acc: 0.3984\n",
      "Epoch 29/50\n",
      " - 1s - loss: 1.7997 - acc: 0.3978\n",
      "Epoch 30/50\n",
      " - 1s - loss: 1.7932 - acc: 0.3941\n",
      "Epoch 31/50\n",
      " - 1s - loss: 1.7900 - acc: 0.4020\n",
      "Epoch 32/50\n",
      " - 1s - loss: 1.7786 - acc: 0.4075\n",
      "Epoch 33/50\n",
      " - 1s - loss: 1.7975 - acc: 0.3926\n",
      "Epoch 34/50\n",
      " - 1s - loss: 1.7876 - acc: 0.4064\n",
      "Epoch 35/50\n",
      " - 1s - loss: 1.7795 - acc: 0.4003\n",
      "Epoch 36/50\n",
      " - 1s - loss: 1.7615 - acc: 0.4123\n",
      "Epoch 37/50\n",
      " - 1s - loss: 1.7734 - acc: 0.4084\n",
      "Epoch 38/50\n",
      " - 1s - loss: 1.7760 - acc: 0.4019\n",
      "Epoch 39/50\n",
      " - 1s - loss: 1.7538 - acc: 0.4107\n",
      "Epoch 40/50\n",
      " - 1s - loss: 1.7597 - acc: 0.4093\n",
      "Epoch 41/50\n",
      " - 1s - loss: 1.7617 - acc: 0.4067\n",
      "Epoch 42/50\n",
      " - 1s - loss: 1.7639 - acc: 0.4124\n",
      "Epoch 43/50\n",
      " - 1s - loss: 1.7548 - acc: 0.4060\n",
      "Epoch 44/50\n",
      " - 1s - loss: 1.7545 - acc: 0.4090\n",
      "Epoch 45/50\n",
      " - 1s - loss: 1.7449 - acc: 0.4142\n",
      "Epoch 46/50\n",
      " - 1s - loss: 1.7471 - acc: 0.4170\n",
      "Epoch 47/50\n",
      " - 1s - loss: 1.7468 - acc: 0.4139\n",
      "Epoch 48/50\n",
      " - 1s - loss: 1.7266 - acc: 0.4218\n",
      "Epoch 49/50\n",
      " - 1s - loss: 1.7421 - acc: 0.4158\n",
      "Epoch 50/50\n",
      " - 1s - loss: 1.7370 - acc: 0.4119\n"
     ]
    },
    {
     "data": {
      "text/plain": [
       "<keras.callbacks.History at 0x1ece44ff630>"
      ]
     },
     "execution_count": 19,
     "metadata": {},
     "output_type": "execute_result"
    }
   ],
   "source": [
    "model.compile(loss='categorical_crossentropy',\n",
    "              optimizer='rmsprop',\n",
    "              metrics=['accuracy'])\n",
    "\n",
    "model.fit(X_train, Y_train, epochs=50, verbose=2)"
   ]
  },
  {
   "cell_type": "code",
   "execution_count": 21,
   "metadata": {
    "collapsed": true
   },
   "outputs": [],
   "source": [
    "y_pred=(model.predict(X_test))"
   ]
  },
  {
   "cell_type": "code",
   "execution_count": 22,
   "metadata": {},
   "outputs": [
    {
     "data": {
      "text/plain": [
       "array([[1.0824090e-01, 8.8168584e-02, 8.7021805e-02, ..., 1.5402088e-03,\n",
       "        1.9700642e-01, 7.3028161e-05],\n",
       "       [2.4165653e-01, 3.0213648e-02, 4.1089877e-03, ..., 3.4195010e-04,\n",
       "        5.6341362e-01, 1.5584436e-01],\n",
       "       [5.7003206e-01, 3.7367893e-03, 4.0592183e-03, ..., 8.4053504e-04,\n",
       "        4.0480581e-01, 4.0433933e-03],\n",
       "       ...,\n",
       "       [4.5297723e-02, 6.0484288e-03, 1.2062885e-01, ..., 1.2742111e-01,\n",
       "        4.5279756e-02, 8.9079523e-03],\n",
       "       [3.5165872e-02, 1.5314150e-02, 9.7601131e-02, ..., 1.0246978e-02,\n",
       "        1.0926842e-02, 3.4115263e-03],\n",
       "       [1.4150281e-01, 8.0889845e-03, 4.9162429e-02, ..., 1.7538442e-01,\n",
       "        6.1674792e-02, 8.7222876e-03]], dtype=float32)"
      ]
     },
     "execution_count": 22,
     "metadata": {},
     "output_type": "execute_result"
    }
   ],
   "source": [
    "y_pred"
   ]
  },
  {
   "cell_type": "code",
   "execution_count": 25,
   "metadata": {},
   "outputs": [
    {
     "name": "stdout",
     "output_type": "stream",
     "text": [
      "10000/10000 [==============================] - 0s 36us/step\n",
      "Test score: 2.186734698867798\n",
      "Test accuracy: 0.3192\n"
     ]
    }
   ],
   "source": [
    "score = model.evaluate(X_test, Y_test)\n",
    "print('Test score:', score[0])\n",
    "print('Test accuracy:', score[1])"
   ]
  },
  {
   "cell_type": "markdown",
   "metadata": {},
   "source": [
    "# Exercise 08.2\n",
    "\n",
    "Train a Deep Neural Network with the following architecture:\n",
    "\n",
    "- Input = Image (32, 32, 3)\n",
    "- Conv2d(32, (3,3), padding='same')\n",
    "- Relu Activation\n",
    "- MaxPooling2D (2,2)\n",
    "- Dropout(0.5)\n",
    "- Flattern\n",
    "- Dense(10, Softmax)\n",
    "\n",
    "Optimized using rmsprop using as loss categorical_crossentropy\n",
    "\n",
    "Hints: \n",
    "- test with two iterations then try more. \n",
    "- learning can be ajusted\n",
    "\n",
    "Evaluate the performance using the testing set (aprox 55% with 50 epochs)"
   ]
  },
  {
   "cell_type": "code",
   "execution_count": 26,
   "metadata": {},
   "outputs": [
    {
     "name": "stdout",
     "output_type": "stream",
     "text": [
      "_________________________________________________________________\n",
      "Layer (type)                 Output Shape              Param #   \n",
      "=================================================================\n",
      "conv2d_1 (Conv2D)            (None, 32, 32, 32)        896       \n",
      "_________________________________________________________________\n",
      "activation_4 (Activation)    (None, 32, 32, 32)        0         \n",
      "_________________________________________________________________\n",
      "max_pooling2d_1 (MaxPooling2 (None, 16, 16, 32)        0         \n",
      "_________________________________________________________________\n",
      "dropout_1 (Dropout)          (None, 16, 16, 32)        0         \n",
      "_________________________________________________________________\n",
      "flatten_4 (Flatten)          (None, 8192)              0         \n",
      "_________________________________________________________________\n",
      "dense_4 (Dense)              (None, 10)                81930     \n",
      "_________________________________________________________________\n",
      "activation_5 (Activation)    (None, 10)                0         \n",
      "=================================================================\n",
      "Total params: 82,826\n",
      "Trainable params: 82,826\n",
      "Non-trainable params: 0\n",
      "_________________________________________________________________\n"
     ]
    }
   ],
   "source": [
    "model2 = Sequential()\n",
    "model2.add(Conv2D(32, (3, 3), input_shape=(32,32,3),padding='same'))\n",
    "model2.add(Activation('relu'))\n",
    "model2.add(MaxPooling2D(pool_size=(2, 2)))\n",
    "model2.add(Dropout(0.5))\n",
    "model2.add(Flatten())\n",
    "model2.add(Dense(10))\n",
    "model2.add(Activation('softmax'))\n",
    "model2.summary()"
   ]
  },
  {
   "cell_type": "code",
   "execution_count": 28,
   "metadata": {
    "collapsed": true
   },
   "outputs": [],
   "source": [
    "model2.compile(loss='categorical_crossentropy',\n",
    "              optimizer='rmsprop',\n",
    "              metrics=['accuracy'])"
   ]
  },
  {
   "cell_type": "code",
   "execution_count": 31,
   "metadata": {},
   "outputs": [
    {
     "name": "stdout",
     "output_type": "stream",
     "text": [
      "Epoch 1/50\n",
      " - 13s - loss: 1.4357 - acc: 0.4966\n",
      "Epoch 2/50\n",
      " - 13s - loss: 1.3473 - acc: 0.5288\n",
      "Epoch 3/50\n",
      " - 14s - loss: 1.2931 - acc: 0.5524\n",
      "Epoch 4/50\n",
      " - 13s - loss: 1.2477 - acc: 0.5624\n",
      "Epoch 5/50\n",
      " - 13s - loss: 1.2112 - acc: 0.5770\n",
      "Epoch 6/50\n",
      " - 14s - loss: 1.1808 - acc: 0.5874\n",
      "Epoch 7/50\n",
      " - 13s - loss: 1.1579 - acc: 0.6008\n",
      "Epoch 8/50\n",
      " - 13s - loss: 1.1369 - acc: 0.6070\n",
      "Epoch 9/50\n",
      " - 13s - loss: 1.1032 - acc: 0.6169\n",
      "Epoch 10/50\n",
      " - 13s - loss: 1.0781 - acc: 0.6254\n",
      "Epoch 11/50\n",
      " - 13s - loss: 1.0654 - acc: 0.6312\n",
      "Epoch 12/50\n",
      " - 13s - loss: 1.0362 - acc: 0.6414\n",
      "Epoch 13/50\n",
      " - 13s - loss: 1.0222 - acc: 0.6459\n",
      "Epoch 14/50\n",
      " - 13s - loss: 1.0012 - acc: 0.6524\n",
      "Epoch 15/50\n",
      " - 13s - loss: 0.9858 - acc: 0.6636\n",
      "Epoch 16/50\n",
      " - 13s - loss: 0.9834 - acc: 0.6618\n",
      "Epoch 17/50\n",
      " - 13s - loss: 0.9718 - acc: 0.6627\n",
      "Epoch 18/50\n",
      " - 13s - loss: 0.9496 - acc: 0.6737\n",
      "Epoch 19/50\n",
      " - 13s - loss: 0.9367 - acc: 0.6800\n",
      "Epoch 20/50\n",
      " - 13s - loss: 0.9318 - acc: 0.6810\n",
      "Epoch 21/50\n",
      " - 13s - loss: 0.9139 - acc: 0.6807\n",
      "Epoch 22/50\n",
      " - 13s - loss: 0.9062 - acc: 0.6875\n",
      "Epoch 23/50\n",
      " - 13s - loss: 0.8895 - acc: 0.6962\n",
      "Epoch 24/50\n",
      " - 13s - loss: 0.8918 - acc: 0.6967\n",
      "Epoch 25/50\n",
      " - 13s - loss: 0.8806 - acc: 0.7012\n",
      "Epoch 26/50\n",
      " - 13s - loss: 0.8736 - acc: 0.7053\n",
      "Epoch 27/50\n",
      " - 13s - loss: 0.8627 - acc: 0.7031\n",
      "Epoch 28/50\n",
      " - 13s - loss: 0.8541 - acc: 0.7094\n",
      "Epoch 29/50\n",
      " - 13s - loss: 0.8532 - acc: 0.7086\n",
      "Epoch 30/50\n",
      " - 12s - loss: 0.8438 - acc: 0.7082\n",
      "Epoch 31/50\n",
      " - 13s - loss: 0.8340 - acc: 0.7106\n",
      "Epoch 32/50\n",
      " - 13s - loss: 0.8358 - acc: 0.7120\n",
      "Epoch 33/50\n",
      " - 13s - loss: 0.8190 - acc: 0.7222\n",
      "Epoch 34/50\n",
      " - 13s - loss: 0.8240 - acc: 0.7176\n",
      "Epoch 35/50\n",
      " - 13s - loss: 0.8121 - acc: 0.7196\n",
      "Epoch 36/50\n",
      " - 13s - loss: 0.8055 - acc: 0.7185\n",
      "Epoch 37/50\n",
      " - 13s - loss: 0.8026 - acc: 0.7279\n",
      "Epoch 38/50\n",
      " - 13s - loss: 0.7992 - acc: 0.7266\n",
      "Epoch 39/50\n",
      " - 13s - loss: 0.7848 - acc: 0.7320\n",
      "Epoch 40/50\n",
      " - 13s - loss: 0.7757 - acc: 0.7367\n",
      "Epoch 41/50\n",
      " - 13s - loss: 0.7846 - acc: 0.7305\n",
      "Epoch 42/50\n",
      " - 13s - loss: 0.7637 - acc: 0.7390\n",
      "Epoch 43/50\n",
      " - 14s - loss: 0.7733 - acc: 0.7354\n",
      "Epoch 44/50\n",
      " - 13s - loss: 0.7762 - acc: 0.7309\n",
      "Epoch 45/50\n",
      " - 13s - loss: 0.7764 - acc: 0.7378\n",
      "Epoch 46/50\n",
      " - 13s - loss: 0.7583 - acc: 0.7381\n",
      "Epoch 47/50\n",
      " - 13s - loss: 0.7490 - acc: 0.7443\n",
      "Epoch 48/50\n",
      " - 13s - loss: 0.7573 - acc: 0.7432\n",
      "Epoch 49/50\n",
      " - 14s - loss: 0.7414 - acc: 0.7449\n",
      "Epoch 50/50\n",
      " - 13s - loss: 0.7402 - acc: 0.7494\n"
     ]
    },
    {
     "data": {
      "text/plain": [
       "<keras.callbacks.History at 0x1ece5bd5320>"
      ]
     },
     "execution_count": 31,
     "metadata": {},
     "output_type": "execute_result"
    }
   ],
   "source": [
    "model2.fit(X_train, Y_train, epochs=50, verbose=2)"
   ]
  },
  {
   "cell_type": "code",
   "execution_count": 34,
   "metadata": {},
   "outputs": [
    {
     "name": "stdout",
     "output_type": "stream",
     "text": [
      "10000/10000 [==============================] - 5s 491us/step\n",
      "Test score: 1.4925569602966309\n",
      "Test accuracy: 0.5671\n"
     ]
    }
   ],
   "source": [
    "score2 = model2.evaluate(X_test, Y_test)\n",
    "print('Test score:', score2[0])\n",
    "print('Test accuracy:', score2[1])"
   ]
  },
  {
   "cell_type": "markdown",
   "metadata": {},
   "source": [
    "# Exercise 08.3\n",
    "\n",
    "Use the last layer of VGG16 as the input to a neural network with softmax output\n",
    "\n",
    "- Input = Image (32, 32, 3)\n",
    "- VGG16 \n",
    "- Flattern\n",
    "- Dense(512, Softmax)\n",
    "- Dropout(0.5)\n",
    "- Dense(10, Softmax)\n",
    "\n",
    "Optimized using rmsprop using as loss categorical_crossentropy\n",
    "\n",
    "Hints: \n",
    "- test with two iterations then try more. \n",
    "- learning can be ajusted\n",
    "\n",
    "Evaluate the performance using the testing set (aprox 57% with 50 epochs)"
   ]
  },
  {
   "cell_type": "code",
   "execution_count": 1,
   "metadata": {},
   "outputs": [
    {
     "name": "stderr",
     "output_type": "stream",
     "text": [
      "C:\\Users\\Andres Piraban Acero\\Anaconda3\\lib\\site-packages\\h5py\\__init__.py:34: FutureWarning: Conversion of the second argument of issubdtype from `float` to `np.floating` is deprecated. In future, it will be treated as `np.float64 == np.dtype(float).type`.\n",
      "  from ._conv import register_converters as _register_converters\n",
      "Using TensorFlow backend.\n"
     ]
    },
    {
     "ename": "NameError",
     "evalue": "name 'modelvgg16' is not defined",
     "output_type": "error",
     "traceback": [
      "\u001b[1;31m---------------------------------------------------------------------------\u001b[0m",
      "\u001b[1;31mNameError\u001b[0m                                 Traceback (most recent call last)",
      "\u001b[1;32m<ipython-input-1-66abe8c22384>\u001b[0m in \u001b[0;36m<module>\u001b[1;34m()\u001b[0m\n\u001b[0;32m      1\u001b[0m \u001b[1;32mfrom\u001b[0m \u001b[0mkeras\u001b[0m\u001b[1;33m.\u001b[0m\u001b[0mapplications\u001b[0m\u001b[1;33m.\u001b[0m\u001b[0mvgg16\u001b[0m \u001b[1;32mimport\u001b[0m \u001b[0mVGG16\u001b[0m\u001b[1;33m\u001b[0m\u001b[0m\n\u001b[0;32m      2\u001b[0m \u001b[0mmodel_vgg16\u001b[0m \u001b[1;33m=\u001b[0m \u001b[0mVGG16\u001b[0m\u001b[1;33m(\u001b[0m\u001b[0mweights\u001b[0m\u001b[1;33m=\u001b[0m\u001b[1;34m'imagenet'\u001b[0m\u001b[1;33m,\u001b[0m \u001b[0minclude_top\u001b[0m\u001b[1;33m=\u001b[0m\u001b[1;32mFalse\u001b[0m\u001b[1;33m)\u001b[0m\u001b[1;33m\u001b[0m\u001b[0m\n\u001b[1;32m----> 3\u001b[1;33m \u001b[0mmodelvgg16\u001b[0m\u001b[1;33m.\u001b[0m\u001b[0msummary\u001b[0m\u001b[1;33m(\u001b[0m\u001b[1;33m)\u001b[0m\u001b[1;33m\u001b[0m\u001b[0m\n\u001b[0m",
      "\u001b[1;31mNameError\u001b[0m: name 'modelvgg16' is not defined"
     ]
    }
   ],
   "source": [
    "from keras.applications.vgg16 import VGG16\n",
    "model_vgg16 = VGG16(weights='imagenet', include_top=False)\n"
   ]
  },
  {
   "cell_type": "code",
   "execution_count": 2,
   "metadata": {},
   "outputs": [
    {
     "name": "stdout",
     "output_type": "stream",
     "text": [
      "_________________________________________________________________\n",
      "Layer (type)                 Output Shape              Param #   \n",
      "=================================================================\n",
      "input_1 (InputLayer)         (None, None, None, 3)     0         \n",
      "_________________________________________________________________\n",
      "block1_conv1 (Conv2D)        (None, None, None, 64)    1792      \n",
      "_________________________________________________________________\n",
      "block1_conv2 (Conv2D)        (None, None, None, 64)    36928     \n",
      "_________________________________________________________________\n",
      "block1_pool (MaxPooling2D)   (None, None, None, 64)    0         \n",
      "_________________________________________________________________\n",
      "block2_conv1 (Conv2D)        (None, None, None, 128)   73856     \n",
      "_________________________________________________________________\n",
      "block2_conv2 (Conv2D)        (None, None, None, 128)   147584    \n",
      "_________________________________________________________________\n",
      "block2_pool (MaxPooling2D)   (None, None, None, 128)   0         \n",
      "_________________________________________________________________\n",
      "block3_conv1 (Conv2D)        (None, None, None, 256)   295168    \n",
      "_________________________________________________________________\n",
      "block3_conv2 (Conv2D)        (None, None, None, 256)   590080    \n",
      "_________________________________________________________________\n",
      "block3_conv3 (Conv2D)        (None, None, None, 256)   590080    \n",
      "_________________________________________________________________\n",
      "block3_pool (MaxPooling2D)   (None, None, None, 256)   0         \n",
      "_________________________________________________________________\n",
      "block4_conv1 (Conv2D)        (None, None, None, 512)   1180160   \n",
      "_________________________________________________________________\n",
      "block4_conv2 (Conv2D)        (None, None, None, 512)   2359808   \n",
      "_________________________________________________________________\n",
      "block4_conv3 (Conv2D)        (None, None, None, 512)   2359808   \n",
      "_________________________________________________________________\n",
      "block4_pool (MaxPooling2D)   (None, None, None, 512)   0         \n",
      "_________________________________________________________________\n",
      "block5_conv1 (Conv2D)        (None, None, None, 512)   2359808   \n",
      "_________________________________________________________________\n",
      "block5_conv2 (Conv2D)        (None, None, None, 512)   2359808   \n",
      "_________________________________________________________________\n",
      "block5_conv3 (Conv2D)        (None, None, None, 512)   2359808   \n",
      "_________________________________________________________________\n",
      "block5_pool (MaxPooling2D)   (None, None, None, 512)   0         \n",
      "=================================================================\n",
      "Total params: 14,714,688\n",
      "Trainable params: 14,714,688\n",
      "Non-trainable params: 0\n",
      "_________________________________________________________________\n"
     ]
    }
   ],
   "source": [
    "model_vgg16.summary()"
   ]
  },
  {
   "cell_type": "code",
   "execution_count": 46,
   "metadata": {
    "collapsed": true
   },
   "outputs": [],
   "source": [
    "output_vgg16=model_vgg16.predict(X_train)"
   ]
  },
  {
   "cell_type": "code",
   "execution_count": 50,
   "metadata": {},
   "outputs": [
    {
     "data": {
      "text/plain": [
       "(10000, 1, 1, 512)"
      ]
     },
     "execution_count": 50,
     "metadata": {},
     "output_type": "execute_result"
    }
   ],
   "source": [
    "output_vgg16.shape"
   ]
  },
  {
   "cell_type": "code",
   "execution_count": 51,
   "metadata": {},
   "outputs": [
    {
     "name": "stdout",
     "output_type": "stream",
     "text": [
      "_________________________________________________________________\n",
      "Layer (type)                 Output Shape              Param #   \n",
      "=================================================================\n",
      "flatten_6 (Flatten)          (None, 512)               0         \n",
      "_________________________________________________________________\n",
      "dense_7 (Dense)              (None, 512)               262656    \n",
      "_________________________________________________________________\n",
      "activation_8 (Activation)    (None, 512)               0         \n",
      "_________________________________________________________________\n",
      "dropout_3 (Dropout)          (None, 512)               0         \n",
      "_________________________________________________________________\n",
      "dense_8 (Dense)              (None, 10)                5130      \n",
      "_________________________________________________________________\n",
      "activation_9 (Activation)    (None, 10)                0         \n",
      "=================================================================\n",
      "Total params: 267,786\n",
      "Trainable params: 267,786\n",
      "Non-trainable params: 0\n",
      "_________________________________________________________________\n"
     ]
    }
   ],
   "source": [
    "model3 = Sequential()\n",
    "model3.add(Flatten(input_shape=(1,1,512)))\n",
    "model3.add(Dense(units=512))\n",
    "model3.add(Activation('relu'))\n",
    "model3.add(Dropout(0.5))\n",
    "model3.add(Dense(units=10))\n",
    "model3.add(Activation('softmax'))\n",
    "\n",
    "model3.summary()"
   ]
  },
  {
   "cell_type": "code",
   "execution_count": 52,
   "metadata": {
    "collapsed": true
   },
   "outputs": [],
   "source": [
    "model3.compile(loss='categorical_crossentropy',\n",
    "              optimizer='rmsprop',\n",
    "              metrics=['accuracy'])"
   ]
  },
  {
   "cell_type": "code",
   "execution_count": 56,
   "metadata": {},
   "outputs": [
    {
     "name": "stdout",
     "output_type": "stream",
     "text": [
      "Epoch 1/10\n",
      " - 3s - loss: 1.4087 - acc: 0.5066\n",
      "Epoch 2/10\n",
      " - 2s - loss: 1.3155 - acc: 0.5422\n",
      "Epoch 3/10\n",
      " - 3s - loss: 1.2671 - acc: 0.5587\n",
      "Epoch 4/10\n",
      " - 3s - loss: 1.2172 - acc: 0.5734\n",
      "Epoch 5/10\n",
      " - 2s - loss: 1.1835 - acc: 0.5919\n",
      "Epoch 6/10\n",
      " - 2s - loss: 1.1570 - acc: 0.5941\n",
      "Epoch 7/10\n",
      " - 3s - loss: 1.1278 - acc: 0.6078\n",
      "Epoch 8/10\n",
      " - 3s - loss: 1.0975 - acc: 0.6146\n",
      "Epoch 9/10\n",
      " - 3s - loss: 1.0810 - acc: 0.6243\n",
      "Epoch 10/10\n",
      " - 3s - loss: 1.0523 - acc: 0.6365\n"
     ]
    },
    {
     "data": {
      "text/plain": [
       "<keras.callbacks.History at 0x1ec82811240>"
      ]
     },
     "execution_count": 56,
     "metadata": {},
     "output_type": "execute_result"
    }
   ],
   "source": [
    "model3.fit(output_vgg16, Y_train, epochs=10, verbose=2)"
   ]
  },
  {
   "cell_type": "code",
   "execution_count": 54,
   "metadata": {
    "collapsed": true
   },
   "outputs": [],
   "source": [
    "output_vgg16_test=model_vgg16.predict(X_test)"
   ]
  },
  {
   "cell_type": "code",
   "execution_count": 57,
   "metadata": {},
   "outputs": [
    {
     "name": "stdout",
     "output_type": "stream",
     "text": [
      "10000/10000 [==============================] - 1s 71us/step\n",
      "Test score: 1.2835079751968383\n",
      "Test accuracy: 0.5737\n"
     ]
    }
   ],
   "source": [
    "score3 = model3.evaluate(output_vgg16_test, Y_test)\n",
    "print('Test score:', score3[0])\n",
    "print('Test accuracy:', score3[1])"
   ]
  },
  {
   "cell_type": "markdown",
   "metadata": {},
   "source": [
    "# Exercise *08.4 (Bonus)\n",
    "\n",
    "Test a different pre-train algorithm (https://keras.io/applications/#usage-examples-for-image-classification-models) "
   ]
  }
 ],
 "metadata": {
  "kernelspec": {
   "display_name": "Python 3",
   "language": "python",
   "name": "python3"
  },
  "language_info": {
   "codemirror_mode": {
    "name": "ipython",
    "version": 3
   },
   "file_extension": ".py",
   "mimetype": "text/x-python",
   "name": "python",
   "nbconvert_exporter": "python",
   "pygments_lexer": "ipython3",
   "version": "3.6.4"
  }
 },
 "nbformat": 4,
 "nbformat_minor": 2
}
